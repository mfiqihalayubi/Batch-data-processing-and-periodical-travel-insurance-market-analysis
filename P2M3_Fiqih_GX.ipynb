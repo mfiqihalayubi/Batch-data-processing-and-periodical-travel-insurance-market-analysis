{
 "cells": [
  {
   "cell_type": "markdown",
   "metadata": {},
   "source": [
    "# 1. Introduction\n",
    "\n",
    "***Nama         :*** Muhammad Fiqih Al-ayubi\n",
    "\n",
    "***Batch        :*** HCK-017\n",
    "\n",
    "***Objective    :*** \n",
    "\n",
    "Program ini dibuat untuk memvalidasi dataset hasil cleaning dan menyimpan konfigurasi validasi agar proses validasi dapat dilakukan lagi dengan dataset yang telah diupdate atau dataset baru (dengan konteks problem yang sama). Selain itu, program ini juga dibuat untuk memastikan jika dataset hasil cleaning siap digunakan untuk proses analisa atau proses - proses lain yang membutuhkan perhitungan matematis\n"
   ]
  },
  {
   "cell_type": "markdown",
   "metadata": {},
   "source": [
    "# 2. Import Libraries"
   ]
  },
  {
   "cell_type": "code",
   "execution_count": 1,
   "metadata": {},
   "outputs": [],
   "source": [
    "from great_expectations.data_context import FileDataContext\n",
    "import pandas as pd"
   ]
  },
  {
   "cell_type": "markdown",
   "metadata": {},
   "source": [
    "# 3. Mendefinisikan Aset dan Datasource"
   ]
  },
  {
   "cell_type": "code",
   "execution_count": 2,
   "metadata": {},
   "outputs": [],
   "source": [
    "# Membuat context\n",
    "context = FileDataContext.create(project_root_dir='./')"
   ]
  },
  {
   "cell_type": "code",
   "execution_count": 3,
   "metadata": {},
   "outputs": [],
   "source": [
    "# Membuat nama datasource\n",
    "datasource_name = 'datasource_m3'\n",
    "\n",
    "# Conditional statement untuk menghapus datasource dengan nama yang sama\n",
    "if context.datasources: \n",
    "    context.delete_datasource(datasource_name)\n",
    "datasource = context.sources.add_pandas(datasource_name)"
   ]
  },
  {
   "cell_type": "code",
   "execution_count": 4,
   "metadata": {},
   "outputs": [],
   "source": [
    "# Membuat nama data asset\n",
    "asset_name = 'asset_m3'\n",
    "\n",
    "# Membuat file untuk mengakses data asset\n",
    "path_to_data = '/Users/Fiqih/AppData/Local/Programs/Latihan python/hacktiv8/Milestone/Milestone3/Latihan/Milestone3/dags/P2M3_fiqih_data_clean.csv'\n",
    "\n",
    "# Membuat aset data berdasarkan file yang telah ditentukan path nya\n",
    "asset = datasource.add_csv_asset(name=asset_name, filepath_or_buffer=path_to_data)"
   ]
  },
  {
   "cell_type": "code",
   "execution_count": 5,
   "metadata": {},
   "outputs": [],
   "source": [
    "# Membuat permintaan data dari aset yang telah ditentukan\n",
    "batch_request = asset.build_batch_request()"
   ]
  },
  {
   "cell_type": "markdown",
   "metadata": {},
   "source": [
    "# 4. Expectations Suite"
   ]
  },
  {
   "cell_type": "markdown",
   "metadata": {},
   "source": [
    "Berikut adalah beberapa persyaratan wajib yang harus dimiliki dataset hasil cleaning :\n",
    "\n",
    "***1. Seluruh nilai pada kolom travel_id harus bersifat unique***\n",
    "\n",
    "Syarat ini untuk memastikan jika tidak ada kesalahan dalam proses pengumpulan data. Jika travel_id memiliki 2 atau lebih nilai yang sama, itu artinya terdapat kesalahan dalam pengumpulan data karena tidak mungkin agensi mengeluarkan lebih dari 1 travel id yang sama. Tidak terpenuhinya syarat ini juga dapat mengindikasikan jika proses celaning data belum maksimal\n",
    "\n",
    "\n",
    "***2. Nilai pada kolom commision harus berada pada rentang tertentu (expect column values to be between)***\n",
    "\n",
    "Kegagalan dalam syarat ini dapat menyebabkan analisa keuntungan agensi asuransi menjadi bias karena net sales atau keuntungan bersih agensi asuransi juga dipengaruhi besarnya komisi yang diberikan kepada agennya. Oleh karena itu, nilai komisi haruslah realistis atau sesuai dengan hasil cleaning\n",
    "\n",
    "\n",
    "***3. Kolom claim harus memiliki nilai antara 'Yes' atau 'No' (expect column values to be in set)***\n",
    "\n",
    "Kegagalan dalam persyaratan ini mengindikasikan adanya kesalahan fatal dalam proses data cleaning. Hal ini dikarenakan nilai pada kolom claim menjadi parameter utama dalam melakukan proses analisa dan klasifikasi customer\n",
    "\n",
    "\n",
    "***4. Kolom net_sales harus memiliki data numerik atau numerik float (expect_column_values_to_be_in_type_list)***\n",
    "\n",
    "Memastikan tipe data kolom net_sales setelah proses pembersihan adalah hal yang wajib untuk mengantisipasi jika data yang telah dibersihkan akan digunakan lagi untuk perhitungan statistik atau pelatihan model machine learning\n",
    "\n",
    "\n",
    "***5. Nilai unique pada kolom destination harus memiliki proporsi pada rentang tertentu terhadap keseluruhan data (expect column proportion of unique values to be between)***\n",
    "\n",
    "Ini artinya, varians nilai pada kolom destination harus lebih kecil dibandingkan jumlah baris data. Dalam hal ini maximal proportion dihitung berdasarkan total jumlah negara yang eksis lalu dibagi dengan total jumlah baris. Jika proporsi melebihi jumlah maksimal itu artinya terdapat kesalahan dalam penginputan nama destinasi/negara\n",
    "\n",
    "\n",
    "***6. Jumlah baris data harus sesuai dengan hasil data cleaning (expect table row count to be between)***\n",
    "\n",
    "Mengingat adanya missing values dan duplicated rows pada dataset raw, maka jumlah baris data harus sama speerti jumlah baris setelah proses cleaning. Selain memvalidasi jumlah baris data, proses ini juga bertujuan untuk memberikan batasan minimum baris yang diperlukan untuk kebutuhan analisa karena baris/entries yang terlalu sedikit tidak cukup untuk menghasilkan kesimpulan yang menggambarkan pengaruh dari masing - masing independent variable\n",
    "\n",
    "\n",
    "***7. Nama dan jumlah kolom harus sesuai dengan hasil proses cleaning (expect_table_columns_to_match_set)****\n",
    "\n",
    "Artinya baik format nama maupun jumlah kolomnya harus sama seperti data hasil proses cleaning. Jika nama dan jumlah kolom tidak sama dengan hasil yang didapatkan setelah proses cleaning, itu artinya terdapat kesalahan dalam proses penyimpanan data atau data yang diinput pada proses validasi merupakan data yang salah\n",
    "\n",
    "\n"
   ]
  },
  {
   "cell_type": "code",
   "execution_count": 6,
   "metadata": {},
   "outputs": [
    {
     "data": {
      "application/vnd.jupyter.widget-view+json": {
       "model_id": "6037f8c4254942349cfd497a64280c25",
       "version_major": 2,
       "version_minor": 0
      },
      "text/plain": [
       "Calculating Metrics:   0%|          | 0/1 [00:00<?, ?it/s]"
      ]
     },
     "metadata": {},
     "output_type": "display_data"
    },
    {
     "data": {
      "text/html": [
       "<div>\n",
       "<style scoped>\n",
       "    .dataframe tbody tr th:only-of-type {\n",
       "        vertical-align: middle;\n",
       "    }\n",
       "\n",
       "    .dataframe tbody tr th {\n",
       "        vertical-align: top;\n",
       "    }\n",
       "\n",
       "    .dataframe thead th {\n",
       "        text-align: right;\n",
       "    }\n",
       "</style>\n",
       "<table border=\"1\" class=\"dataframe\">\n",
       "  <thead>\n",
       "    <tr style=\"text-align: right;\">\n",
       "      <th></th>\n",
       "      <th>agency</th>\n",
       "      <th>agency_type</th>\n",
       "      <th>distribution_channel</th>\n",
       "      <th>product_name</th>\n",
       "      <th>claim</th>\n",
       "      <th>duration</th>\n",
       "      <th>destination</th>\n",
       "      <th>net_sales</th>\n",
       "      <th>commision</th>\n",
       "      <th>gender</th>\n",
       "      <th>age</th>\n",
       "      <th>travel_id</th>\n",
       "    </tr>\n",
       "  </thead>\n",
       "  <tbody>\n",
       "    <tr>\n",
       "      <th>0</th>\n",
       "      <td>CBH</td>\n",
       "      <td>Travel Agency</td>\n",
       "      <td>Offline</td>\n",
       "      <td>Comprehensive Plan</td>\n",
       "      <td>No</td>\n",
       "      <td>186</td>\n",
       "      <td>MALAYSIA</td>\n",
       "      <td>-29.0</td>\n",
       "      <td>9.57</td>\n",
       "      <td>F</td>\n",
       "      <td>81</td>\n",
       "      <td>e7d9ccc6-321c-4986-a102-82aa50ba12f6</td>\n",
       "    </tr>\n",
       "    <tr>\n",
       "      <th>1</th>\n",
       "      <td>CBH</td>\n",
       "      <td>Travel Agency</td>\n",
       "      <td>Offline</td>\n",
       "      <td>Comprehensive Plan</td>\n",
       "      <td>No</td>\n",
       "      <td>186</td>\n",
       "      <td>MALAYSIA</td>\n",
       "      <td>-29.0</td>\n",
       "      <td>9.57</td>\n",
       "      <td>F</td>\n",
       "      <td>71</td>\n",
       "      <td>c35899e3-4252-40bc-817d-965fb977cc42</td>\n",
       "    </tr>\n",
       "    <tr>\n",
       "      <th>2</th>\n",
       "      <td>CWT</td>\n",
       "      <td>Travel Agency</td>\n",
       "      <td>Online</td>\n",
       "      <td>Rental Vehicle Excess Insurance</td>\n",
       "      <td>No</td>\n",
       "      <td>65</td>\n",
       "      <td>AUSTRALIA</td>\n",
       "      <td>-49.5</td>\n",
       "      <td>29.70</td>\n",
       "      <td>Unknown</td>\n",
       "      <td>32</td>\n",
       "      <td>484f3c54-1f50-414f-ab7b-b021f65b88ff</td>\n",
       "    </tr>\n",
       "    <tr>\n",
       "      <th>3</th>\n",
       "      <td>CWT</td>\n",
       "      <td>Travel Agency</td>\n",
       "      <td>Online</td>\n",
       "      <td>Rental Vehicle Excess Insurance</td>\n",
       "      <td>No</td>\n",
       "      <td>60</td>\n",
       "      <td>AUSTRALIA</td>\n",
       "      <td>-39.6</td>\n",
       "      <td>23.76</td>\n",
       "      <td>Unknown</td>\n",
       "      <td>32</td>\n",
       "      <td>00222938-6f40-423c-bfd7-09024e781c69</td>\n",
       "    </tr>\n",
       "    <tr>\n",
       "      <th>4</th>\n",
       "      <td>CWT</td>\n",
       "      <td>Travel Agency</td>\n",
       "      <td>Online</td>\n",
       "      <td>Rental Vehicle Excess Insurance</td>\n",
       "      <td>No</td>\n",
       "      <td>79</td>\n",
       "      <td>ITALY</td>\n",
       "      <td>-19.8</td>\n",
       "      <td>11.88</td>\n",
       "      <td>Unknown</td>\n",
       "      <td>41</td>\n",
       "      <td>0cabd629-ab5f-4c99-88df-2078abcd9d86</td>\n",
       "    </tr>\n",
       "  </tbody>\n",
       "</table>\n",
       "</div>"
      ],
      "text/plain": [
       "  agency    agency_type distribution_channel                     product_name  \\\n",
       "0    CBH  Travel Agency              Offline               Comprehensive Plan   \n",
       "1    CBH  Travel Agency              Offline               Comprehensive Plan   \n",
       "2    CWT  Travel Agency               Online  Rental Vehicle Excess Insurance   \n",
       "3    CWT  Travel Agency               Online  Rental Vehicle Excess Insurance   \n",
       "4    CWT  Travel Agency               Online  Rental Vehicle Excess Insurance   \n",
       "\n",
       "  claim  duration destination  net_sales  commision   gender  age  \\\n",
       "0    No       186    MALAYSIA      -29.0       9.57        F   81   \n",
       "1    No       186    MALAYSIA      -29.0       9.57        F   71   \n",
       "2    No        65   AUSTRALIA      -49.5      29.70  Unknown   32   \n",
       "3    No        60   AUSTRALIA      -39.6      23.76  Unknown   32   \n",
       "4    No        79       ITALY      -19.8      11.88  Unknown   41   \n",
       "\n",
       "                              travel_id  \n",
       "0  e7d9ccc6-321c-4986-a102-82aa50ba12f6  \n",
       "1  c35899e3-4252-40bc-817d-965fb977cc42  \n",
       "2  484f3c54-1f50-414f-ab7b-b021f65b88ff  \n",
       "3  00222938-6f40-423c-bfd7-09024e781c69  \n",
       "4  0cabd629-ab5f-4c99-88df-2078abcd9d86  "
      ]
     },
     "execution_count": 6,
     "metadata": {},
     "output_type": "execute_result"
    }
   ],
   "source": [
    "# Membuat expectation suite\n",
    "expectation_suite_name = 'expectation_data_m3'\n",
    "context.add_or_update_expectation_suite(expectation_suite_name)\n",
    "\n",
    "# Membuat validator berdasarkan data yang telah direquest dengan batch request\n",
    "validator = context.get_validator(\n",
    "    batch_request = batch_request,\n",
    "    expectation_suite_name = expectation_suite_name\n",
    ")\n",
    "\n",
    "# Cek hasil\n",
    "validator.head()"
   ]
  },
  {
   "cell_type": "markdown",
   "metadata": {},
   "source": [
    "# 5. Data Validation"
   ]
  },
  {
   "cell_type": "markdown",
   "metadata": {},
   "source": [
    "### 5.1. Expectation 1 : Seluruh nilai pada kolom travel_id harus unique"
   ]
  },
  {
   "cell_type": "code",
   "execution_count": 7,
   "metadata": {},
   "outputs": [
    {
     "data": {
      "application/vnd.jupyter.widget-view+json": {
       "model_id": "460f0e4b6e6146f1a5b0732ca3d946c4",
       "version_major": 2,
       "version_minor": 0
      },
      "text/plain": [
       "Calculating Metrics:   0%|          | 0/8 [00:00<?, ?it/s]"
      ]
     },
     "metadata": {},
     "output_type": "display_data"
    },
    {
     "data": {
      "text/plain": [
       "{\n",
       "  \"success\": true,\n",
       "  \"result\": {\n",
       "    \"element_count\": 55284,\n",
       "    \"unexpected_count\": 0,\n",
       "    \"unexpected_percent\": 0.0,\n",
       "    \"partial_unexpected_list\": [],\n",
       "    \"missing_count\": 0,\n",
       "    \"missing_percent\": 0.0,\n",
       "    \"unexpected_percent_total\": 0.0,\n",
       "    \"unexpected_percent_nonmissing\": 0.0\n",
       "  },\n",
       "  \"meta\": {},\n",
       "  \"exception_info\": {\n",
       "    \"raised_exception\": false,\n",
       "    \"exception_traceback\": null,\n",
       "    \"exception_message\": null\n",
       "  }\n",
       "}"
      ]
     },
     "execution_count": 7,
     "metadata": {},
     "output_type": "execute_result"
    }
   ],
   "source": [
    "# Proses validasi\n",
    "validator.expect_column_values_to_be_unique('travel_id')"
   ]
  },
  {
   "cell_type": "markdown",
   "metadata": {},
   "source": [
    "Dari 55284 baris data kolom travel_id yang divalidasi keunikannya, hasilnya seluruh nilai pada kolom travel_id bersifat unique sehingga hasil validasi berstatus true. "
   ]
  },
  {
   "cell_type": "markdown",
   "metadata": {},
   "source": [
    "### 5.2. Expectation 2 : Nilai pada kolom commision harus berada pada rentang tertentu"
   ]
  },
  {
   "cell_type": "markdown",
   "metadata": {},
   "source": [
    "Pada proses ini, nilai minimal akan diset sebesar 0 dan nilai maksimal akan diset sesuai dengan nilai maksimal dari kolom commision yang dihasilkan dari proses data cleaning (283.5)"
   ]
  },
  {
   "cell_type": "code",
   "execution_count": 8,
   "metadata": {},
   "outputs": [
    {
     "data": {
      "application/vnd.jupyter.widget-view+json": {
       "model_id": "6a69fec89e7b42f59f5f11e49cf38913",
       "version_major": 2,
       "version_minor": 0
      },
      "text/plain": [
       "Calculating Metrics:   0%|          | 0/8 [00:00<?, ?it/s]"
      ]
     },
     "metadata": {},
     "output_type": "display_data"
    },
    {
     "data": {
      "text/plain": [
       "{\n",
       "  \"success\": true,\n",
       "  \"result\": {\n",
       "    \"element_count\": 55284,\n",
       "    \"unexpected_count\": 0,\n",
       "    \"unexpected_percent\": 0.0,\n",
       "    \"partial_unexpected_list\": [],\n",
       "    \"missing_count\": 0,\n",
       "    \"missing_percent\": 0.0,\n",
       "    \"unexpected_percent_total\": 0.0,\n",
       "    \"unexpected_percent_nonmissing\": 0.0\n",
       "  },\n",
       "  \"meta\": {},\n",
       "  \"exception_info\": {\n",
       "    \"raised_exception\": false,\n",
       "    \"exception_traceback\": null,\n",
       "    \"exception_message\": null\n",
       "  }\n",
       "}"
      ]
     },
     "execution_count": 8,
     "metadata": {},
     "output_type": "execute_result"
    }
   ],
   "source": [
    "# Proses validasi\n",
    "validator.expect_column_values_to_be_between(column='commision', min_value=0, max_value=283.5)"
   ]
  },
  {
   "cell_type": "markdown",
   "metadata": {},
   "source": [
    "Dari hasil proses validasi di atas yang berstatus true, maka dapat disimpulkan jika nilai commision telah memenuhi syarat berada pada range nilai minimum dan nilai maksimum."
   ]
  },
  {
   "cell_type": "markdown",
   "metadata": {},
   "source": [
    "### 5.3. Expectation 3 : Kolom claim hanya memiliki nilai 'Yes' atau 'No'"
   ]
  },
  {
   "cell_type": "code",
   "execution_count": 9,
   "metadata": {},
   "outputs": [
    {
     "data": {
      "application/vnd.jupyter.widget-view+json": {
       "model_id": "49b30a3bfe9b46349fa805c2d0331f7a",
       "version_major": 2,
       "version_minor": 0
      },
      "text/plain": [
       "Calculating Metrics:   0%|          | 0/8 [00:00<?, ?it/s]"
      ]
     },
     "metadata": {},
     "output_type": "display_data"
    },
    {
     "data": {
      "text/plain": [
       "{\n",
       "  \"success\": true,\n",
       "  \"result\": {\n",
       "    \"element_count\": 55284,\n",
       "    \"unexpected_count\": 0,\n",
       "    \"unexpected_percent\": 0.0,\n",
       "    \"partial_unexpected_list\": [],\n",
       "    \"missing_count\": 0,\n",
       "    \"missing_percent\": 0.0,\n",
       "    \"unexpected_percent_total\": 0.0,\n",
       "    \"unexpected_percent_nonmissing\": 0.0\n",
       "  },\n",
       "  \"meta\": {},\n",
       "  \"exception_info\": {\n",
       "    \"raised_exception\": false,\n",
       "    \"exception_traceback\": null,\n",
       "    \"exception_message\": null\n",
       "  }\n",
       "}"
      ]
     },
     "execution_count": 9,
     "metadata": {},
     "output_type": "execute_result"
    }
   ],
   "source": [
    "# Memasukan nilai unique kolom claim ke dalam list\n",
    "claim_values = ['Yes', 'No']\n",
    "\n",
    "# Proses validasi\n",
    "validator.expect_column_values_to_be_in_set('claim', claim_values)"
   ]
  },
  {
   "cell_type": "markdown",
   "metadata": {},
   "source": [
    "Karena hasil validasi di atas berstatus true, maka dapat disimpulkan jika nilai pada kolom 'claim' telah memenuhi syarat dan tidak ada nilai lain pada kolom ini yang dapat membuat hasil analisa menjadi ambigu."
   ]
  },
  {
   "cell_type": "markdown",
   "metadata": {},
   "source": [
    "### 5.4. Expectation 4 : Kolom net_sales harus memiliki tipe data numerik integer atau numerik float"
   ]
  },
  {
   "cell_type": "code",
   "execution_count": 10,
   "metadata": {},
   "outputs": [
    {
     "data": {
      "application/vnd.jupyter.widget-view+json": {
       "model_id": "e6906a4fab9b40f9a53bc2b09bc870d1",
       "version_major": 2,
       "version_minor": 0
      },
      "text/plain": [
       "Calculating Metrics:   0%|          | 0/1 [00:00<?, ?it/s]"
      ]
     },
     "metadata": {},
     "output_type": "display_data"
    },
    {
     "data": {
      "text/plain": [
       "{\n",
       "  \"success\": true,\n",
       "  \"result\": {\n",
       "    \"observed_value\": \"float64\"\n",
       "  },\n",
       "  \"meta\": {},\n",
       "  \"exception_info\": {\n",
       "    \"raised_exception\": false,\n",
       "    \"exception_traceback\": null,\n",
       "    \"exception_message\": null\n",
       "  }\n",
       "}"
      ]
     },
     "execution_count": 10,
     "metadata": {},
     "output_type": "execute_result"
    }
   ],
   "source": [
    "# Membuat list tipe data\n",
    "type_list = ['integer', ['float']]\n",
    "\n",
    "# Proses validasi\n",
    "validator.expect_column_values_to_be_in_type_list('net_sales', ['integer', 'float'])"
   ]
  },
  {
   "cell_type": "markdown",
   "metadata": {},
   "source": [
    "Karena hasil validasi berstatus true maka dapat disimpulkan jika tipe data kolom net_sales sudah sesuai dengan apa yang disyaratkan dan nilai pada kolom tersebut dapat digunakan untuk perhitungan matematis pada proses - proses selanjutnya."
   ]
  },
  {
   "cell_type": "markdown",
   "metadata": {},
   "source": [
    "### 5.5. Expectation 5 : Nilai unique pada kolom destination harus memiliki proporsi pada rentang tertentu terhadap keseluruhan data"
   ]
  },
  {
   "cell_type": "markdown",
   "metadata": {},
   "source": [
    "Nilai maksimal dihasilkan dari pembagian antara jumlah negara yang eksis dengan jumlah baris pada dataset hasil cleaning. Nilai minimal dihasilkan dari pembagian 1 negara (yaitu singapura karena seluruh agency berasal dari negara tersebut) dengan jumlah baris dataset hasil cleaning."
   ]
  },
  {
   "cell_type": "code",
   "execution_count": 11,
   "metadata": {},
   "outputs": [
    {
     "data": {
      "application/vnd.jupyter.widget-view+json": {
       "model_id": "16c030896f5c4eebaa32f0c26273b437",
       "version_major": 2,
       "version_minor": 0
      },
      "text/plain": [
       "Calculating Metrics:   0%|          | 0/7 [00:00<?, ?it/s]"
      ]
     },
     "metadata": {},
     "output_type": "display_data"
    },
    {
     "data": {
      "text/plain": [
       "{\n",
       "  \"success\": true,\n",
       "  \"result\": {\n",
       "    \"observed_value\": 0.002695174010563635\n",
       "  },\n",
       "  \"meta\": {},\n",
       "  \"exception_info\": {\n",
       "    \"raised_exception\": false,\n",
       "    \"exception_traceback\": null,\n",
       "    \"exception_message\": null\n",
       "  }\n",
       "}"
      ]
     },
     "execution_count": 11,
     "metadata": {},
     "output_type": "execute_result"
    }
   ],
   "source": [
    "validator.expect_column_proportion_of_unique_values_to_be_between(\n",
    "    column=\"destination\",\n",
    "    min_value=1.808841617827943e-05,\n",
    "    max_value=0.0035\n",
    ")"
   ]
  },
  {
   "cell_type": "markdown",
   "metadata": {},
   "source": [
    "Hasil validasi berstatus true, itu artinya proporsi nilai unique pada kolom destination/negara tujuan tidak melebihi jumlah negara yang eksis dan hasil tersebut sudah sesuai dengan apa yang dipersyaratkan."
   ]
  },
  {
   "cell_type": "markdown",
   "metadata": {},
   "source": [
    "### 5.6. Expectation 6 : Jumlah baris data harus sesuai dengan hasil data cleaning"
   ]
  },
  {
   "cell_type": "code",
   "execution_count": 12,
   "metadata": {},
   "outputs": [
    {
     "data": {
      "application/vnd.jupyter.widget-view+json": {
       "model_id": "97e66b1ab75d4a76956ec6c9eb241706",
       "version_major": 2,
       "version_minor": 0
      },
      "text/plain": [
       "Calculating Metrics:   0%|          | 0/1 [00:00<?, ?it/s]"
      ]
     },
     "metadata": {},
     "output_type": "display_data"
    },
    {
     "data": {
      "text/plain": [
       "{\n",
       "  \"success\": true,\n",
       "  \"result\": {\n",
       "    \"observed_value\": 55284\n",
       "  },\n",
       "  \"meta\": {},\n",
       "  \"exception_info\": {\n",
       "    \"raised_exception\": false,\n",
       "    \"exception_traceback\": null,\n",
       "    \"exception_message\": null\n",
       "  }\n",
       "}"
      ]
     },
     "execution_count": 12,
     "metadata": {},
     "output_type": "execute_result"
    }
   ],
   "source": [
    "# Proses validasi\n",
    "validator.expect_table_row_count_to_be_between(min_value = 40000, max_value = 55284)"
   ]
  },
  {
   "cell_type": "markdown",
   "metadata": {},
   "source": [
    "Dari hasil di atas maka dapat disimpulkan jika jumlah baris tidak melebihi apa yang telah dihasilkan dari proses cleaning dan jumlah baris tidak kurang dari apa yang dibutuhkan untuk proses analisa data."
   ]
  },
  {
   "cell_type": "markdown",
   "metadata": {},
   "source": [
    "### 5.7. Expectation 7 : Nama dan jumlah kolom harus sesuai dengan hasil proses cleaning"
   ]
  },
  {
   "cell_type": "code",
   "execution_count": 13,
   "metadata": {},
   "outputs": [
    {
     "data": {
      "application/vnd.jupyter.widget-view+json": {
       "model_id": "6a71e2bdb3a945c5a1861d1fb03fef53",
       "version_major": 2,
       "version_minor": 0
      },
      "text/plain": [
       "Calculating Metrics:   0%|          | 0/2 [00:00<?, ?it/s]"
      ]
     },
     "metadata": {},
     "output_type": "display_data"
    },
    {
     "data": {
      "text/plain": [
       "{\n",
       "  \"success\": true,\n",
       "  \"result\": {\n",
       "    \"observed_value\": [\n",
       "      \"agency\",\n",
       "      \"agency_type\",\n",
       "      \"distribution_channel\",\n",
       "      \"product_name\",\n",
       "      \"claim\",\n",
       "      \"duration\",\n",
       "      \"destination\",\n",
       "      \"net_sales\",\n",
       "      \"commision\",\n",
       "      \"gender\",\n",
       "      \"age\",\n",
       "      \"travel_id\"\n",
       "    ]\n",
       "  },\n",
       "  \"meta\": {},\n",
       "  \"exception_info\": {\n",
       "    \"raised_exception\": false,\n",
       "    \"exception_traceback\": null,\n",
       "    \"exception_message\": null\n",
       "  }\n",
       "}"
      ]
     },
     "execution_count": 13,
     "metadata": {},
     "output_type": "execute_result"
    }
   ],
   "source": [
    "# Proses validasi\n",
    "validator.expect_table_columns_to_match_set(column_set = ['agency', 'agency_type', 'distribution_channel', 'product_name', 'claim', 'duration', 'destination', 'net_sales', 'commision', 'gender', 'age', 'travel_id'])"
   ]
  },
  {
   "cell_type": "markdown",
   "metadata": {},
   "source": [
    "Dari hasil di atas maka dapat disimpulkan jika jumlah dan nama kolom tidak memiliki penyimpangan dengan dataset hasil cleaning. Itu artinya tidak ada kesalahan dalam proses penyimpanan data atau data yang diinput pada proses validasi merupakan data yang benar."
   ]
  },
  {
   "cell_type": "markdown",
   "metadata": {},
   "source": [
    "### 5.8. Menyimpan konfigurasi proses validasi"
   ]
  },
  {
   "cell_type": "code",
   "execution_count": 14,
   "metadata": {},
   "outputs": [],
   "source": [
    "# Menyimpan konfigurasi\n",
    "validator.save_expectation_suite(discard_failed_expectations=False)"
   ]
  },
  {
   "cell_type": "markdown",
   "metadata": {},
   "source": [
    "# 6. Membuat Checkpoint"
   ]
  },
  {
   "cell_type": "code",
   "execution_count": 15,
   "metadata": {},
   "outputs": [],
   "source": [
    "# Membuat check point\n",
    "checkpoint_1 = context.add_or_update_checkpoint(\n",
    "    name = 'checkpoint_1',\n",
    "    validator = validator,\n",
    ")"
   ]
  },
  {
   "cell_type": "code",
   "execution_count": 16,
   "metadata": {},
   "outputs": [
    {
     "data": {
      "application/vnd.jupyter.widget-view+json": {
       "model_id": "b2639a6325d04b22ba8b3336ac6526ca",
       "version_major": 2,
       "version_minor": 0
      },
      "text/plain": [
       "Calculating Metrics:   0%|          | 0/28 [00:00<?, ?it/s]"
      ]
     },
     "metadata": {},
     "output_type": "display_data"
    }
   ],
   "source": [
    "# Menjalankan check point\n",
    "checkpoint_result = checkpoint_1.run()"
   ]
  },
  {
   "cell_type": "markdown",
   "metadata": {},
   "source": [
    "# 7. Membuat Dokumentasi Konfigurasi dan Hasil Validasi"
   ]
  },
  {
   "cell_type": "code",
   "execution_count": 17,
   "metadata": {},
   "outputs": [
    {
     "data": {
      "text/plain": [
       "{'local_site': 'file://c:\\\\Users\\\\Fiqih\\\\AppData\\\\Local\\\\Programs\\\\Latihan python\\\\hacktiv8\\\\Milestone\\\\Milestone3\\\\Latihan\\\\Milestone3\\\\gx\\\\uncommitted/data_docs/local_site/index.html'}"
      ]
     },
     "execution_count": 17,
     "metadata": {},
     "output_type": "execute_result"
    }
   ],
   "source": [
    "# Membuat dokumentasi\n",
    "context.build_data_docs()"
   ]
  },
  {
   "cell_type": "markdown",
   "metadata": {},
   "source": [
    "# 8. Kesimpulan\n",
    "Berdasarkan proses validasi di atas maka dapat disimpulkan jika dataset hasil cleaning telah memenuhi persyaratan validasi dan dataset tersebut telah sesuai dengan hasil cleaning sehingga dataset tersebut dapat digunakan untuk proses analisa."
   ]
  }
 ],
 "metadata": {
  "kernelspec": {
   "display_name": "Python 3",
   "language": "python",
   "name": "python3"
  },
  "language_info": {
   "codemirror_mode": {
    "name": "ipython",
    "version": 3
   },
   "file_extension": ".py",
   "mimetype": "text/x-python",
   "name": "python",
   "nbconvert_exporter": "python",
   "pygments_lexer": "ipython3",
   "version": "3.11.5"
  }
 },
 "nbformat": 4,
 "nbformat_minor": 2
}
